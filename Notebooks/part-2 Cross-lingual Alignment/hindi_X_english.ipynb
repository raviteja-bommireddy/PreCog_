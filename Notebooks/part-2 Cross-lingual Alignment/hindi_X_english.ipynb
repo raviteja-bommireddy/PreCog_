{
 "cells": [
  {
   "cell_type": "markdown",
   "id": "29f7062a",
   "metadata": {},
   "source": [
    "# Cross-Lingual Alignment (English ↔ Hindi)"
   ]
  },
  {
   "cell_type": "markdown",
   "id": "a03524d9",
   "metadata": {},
   "source": [
    "## Preprocess Hindi Corpus\n",
    "You can use the indic-nlp-library for Hindi-specific tokenization and normalization."
   ]
  },
  {
   "cell_type": "code",
   "execution_count": null,
   "id": "0aa53344",
   "metadata": {},
   "outputs": [],
   "source": [
    "import os\n",
    "os.environ[\"INDIC_RESOURCES_PATH\"] = \"path_to/indic_nlp_resources\""
   ]
  },
  {
   "cell_type": "code",
   "execution_count": null,
   "id": "5a6254f5",
   "metadata": {},
   "outputs": [
    {
     "name": "stderr",
     "output_type": "stream",
     "text": [
      "<>:9: SyntaxWarning: invalid escape sequence '\\R'\n",
      "<>:9: SyntaxWarning: invalid escape sequence '\\R'\n",
      "C:\\Users\\Lenovo\\AppData\\Local\\Temp\\ipykernel_13044\\660233377.py:9: SyntaxWarning: invalid escape sequence '\\R'\n",
      "  path = \"D:\\RESEARCH related\\PreCog tasks\\Language_representations\\Data\\hin_news_2020_300K\\hin_news_2020_300K-sentences.txt\"\n"
     ]
    },
    {
     "ename": "ModuleNotFoundError",
     "evalue": "No module named 'indicnlp'",
     "output_type": "error",
     "traceback": [
      "\u001b[31m---------------------------------------------------------------------------\u001b[39m",
      "\u001b[31mModuleNotFoundError\u001b[39m                       Traceback (most recent call last)",
      "\u001b[36mCell\u001b[39m\u001b[36m \u001b[39m\u001b[32mIn[2]\u001b[39m\u001b[32m, line 1\u001b[39m\n\u001b[32m----> \u001b[39m\u001b[32m1\u001b[39m \u001b[38;5;28;01mfrom\u001b[39;00m\u001b[38;5;250m \u001b[39m\u001b[34;01mindicnlp\u001b[39;00m\u001b[34;01m.\u001b[39;00m\u001b[34;01mtokenize\u001b[39;00m\u001b[38;5;250m \u001b[39m\u001b[38;5;28;01mimport\u001b[39;00m indic_tokenize\n\u001b[32m      2\u001b[39m \u001b[38;5;28;01mfrom\u001b[39;00m\u001b[38;5;250m \u001b[39m\u001b[34;01mcollections\u001b[39;00m\u001b[38;5;250m \u001b[39m\u001b[38;5;28;01mimport\u001b[39;00m Counter\n\u001b[32m      3\u001b[39m \u001b[38;5;28;01mimport\u001b[39;00m\u001b[38;5;250m \u001b[39m\u001b[34;01mnumpy\u001b[39;00m\u001b[38;5;250m \u001b[39m\u001b[38;5;28;01mas\u001b[39;00m\u001b[38;5;250m \u001b[39m\u001b[34;01mnp\u001b[39;00m\n",
      "\u001b[31mModuleNotFoundError\u001b[39m: No module named 'indicnlp'"
     ]
    }
   ],
   "source": [
    "from indicnlp import common\n",
    "from indicnlp import loader\n",
    "from indicnlp.tokenize import indic_tokenize\n",
    "from indicnlp.normalize.indic_normalize import IndicNormalizerFactory\n",
    "from collections import Counter\n",
    "import numpy as np\n",
    "\n",
    "# Set up Indic NLP resources\n",
    "INDIC_RESOURCES_PATH = \"path_to/indic_nlp_resources\"  # Replace with your path\n",
    "common.set_resources_path(INDIC_RESOURCES_PATH)\n",
    "loader.load()\n",
    "\n",
    "# Load Hindi corpus file\n",
    "path = \"D:\\\\RESEARCH related\\\\PreCog tasks\\\\Language_representations\\\\Data\\\\hin_news_2020_300K\\\\hin_news_2020_300K-sentences.txt\"\n",
    "with open(path, 'r', encoding='utf-8') as f:\n",
    "    hindi_lines = f.readlines()\n",
    "\n",
    "# Preprocess Hindi text\n",
    "def preprocess_hindi(text):\n",
    "    normalizer = IndicNormalizerFactory().get_normalizer(\"hi\")\n",
    "    text = normalizer.normalize(text)\n",
    "    tokens = list(indic_tokenize.trivial_tokenize(text, lang='hi'))\n",
    "    return tokens\n",
    "\n",
    "# Example usage\n",
    "sample_text = hindi_lines[0]\n",
    "tokens = preprocess_hindi(sample_text)\n",
    "print(tokens)"
   ]
  },
  {
   "cell_type": "code",
   "execution_count": null,
   "id": "469312e8",
   "metadata": {},
   "outputs": [],
   "source": []
  }
 ],
 "metadata": {
  "kernelspec": {
   "display_name": "Python 3",
   "language": "python",
   "name": "python3"
  },
  "language_info": {
   "codemirror_mode": {
    "name": "ipython",
    "version": 3
   },
   "file_extension": ".py",
   "mimetype": "text/x-python",
   "name": "python",
   "nbconvert_exporter": "python",
   "pygments_lexer": "ipython3",
   "version": "3.12.0"
  }
 },
 "nbformat": 4,
 "nbformat_minor": 5
}
