{
 "cells": [
  {
   "cell_type": "markdown",
   "id": "00bcf75d",
   "metadata": {},
   "source": [
    "# 🔧 Install & Import Dependencies\n"
   ]
  },
  {
   "cell_type": "code",
   "execution_count": 4,
   "id": "4d9e4b0a",
   "metadata": {},
   "outputs": [
    {
     "name": "stderr",
     "output_type": "stream",
     "text": [
      "[nltk_data] Downloading package punkt to\n",
      "[nltk_data]     C:\\Users\\Lenovo\\AppData\\Roaming\\nltk_data...\n",
      "[nltk_data]   Package punkt is already up-to-date!\n",
      "[nltk_data] Downloading package stopwords to\n",
      "[nltk_data]     C:\\Users\\Lenovo\\AppData\\Roaming\\nltk_data...\n",
      "[nltk_data]   Package stopwords is already up-to-date!\n",
      "[nltk_data] Downloading package punkt_tab to\n",
      "[nltk_data]     C:\\Users\\Lenovo\\AppData\\Roaming\\nltk_data...\n",
      "[nltk_data]   Package punkt_tab is already up-to-date!\n"
     ]
    },
    {
     "data": {
      "text/plain": [
       "True"
      ]
     },
     "execution_count": 4,
     "metadata": {},
     "output_type": "execute_result"
    }
   ],
   "source": [
    "import nltk\n",
    "import re\n",
    "from nltk.tokenize import word_tokenize\n",
    "from nltk.corpus import stopwords\n",
    "from collections import Counter\n",
    "\n",
    "# Download necessary NLTK data\n",
    "nltk.download('punkt')\n",
    "nltk.download('stopwords')\n",
    "nltk.download('punkt_tab')  # punkt_tab is optional"
   ]
  },
  {
   "cell_type": "markdown",
   "id": "ac714a9d",
   "metadata": {},
   "source": [
    "We will explore the generation of dense word representations from text corpora, analyze the quality of these representations. The goal is to understand how to represent word meaning in a high-dimensional space and how to transfer knowledge across languages.\n",
    "\n",
    "Please use the links below to download text corpora. \\\n",
    "English: https://wortschatz.uni-leipzig.de/en/download/English \\\n",
    "Hindi: https://wortschatz.uni-leipzig.de/en/download/Hindi"
   ]
  },
  {
   "cell_type": "markdown",
   "id": "3d12292a",
   "metadata": {},
   "source": [
    "# Load the English Corpus"
   ]
  },
  {
   "cell_type": "code",
   "execution_count": 5,
   "id": "637e3184",
   "metadata": {},
   "outputs": [
    {
     "name": "stderr",
     "output_type": "stream",
     "text": [
      "<>:2: SyntaxWarning: invalid escape sequence '\\R'\n",
      "<>:2: SyntaxWarning: invalid escape sequence '\\R'\n",
      "C:\\Users\\Lenovo\\AppData\\Local\\Temp\\ipykernel_25692\\3237838278.py:2: SyntaxWarning: invalid escape sequence '\\R'\n",
      "  with open(\"D:\\RESEARCH related\\PreCog tasks\\Language_representations\\Data\\eng_news_2020_300K\\eng_news_2020_300K\\eng_news_2020_300K-sentences.txt\", \"r\", encoding='utf8') as f:\n"
     ]
    },
    {
     "name": "stdout",
     "output_type": "stream",
     "text": [
      "Total sentences loaded: 300000\n"
     ]
    }
   ],
   "source": [
    "# Load corpus\n",
    "with open(\"D:\\RESEARCH related\\PreCog tasks\\Language_representations\\Data\\eng_news_2020_300K\\eng_news_2020_300K\\eng_news_2020_300K-sentences.txt\", \"r\", encoding='utf8') as f:\n",
    "    sentences = f.readlines()\n",
    "    sentences = [sentence.strip() for sentence in sentences]\n",
    "\n",
    "print(f\"Total sentences loaded: {len(sentences)}\")"
   ]
  },
  {
   "cell_type": "markdown",
   "id": "e7f2a20d",
   "metadata": {},
   "source": [
    "# preprocessing of data\n",
    "1. Lowercase\n",
    "2. Remove non-alphabetic characters (removing punctuations)\n",
    "3. how about stop words removal --> they impact hugely in co occurence matrices so don't do it.\n",
    "4. lemitization & stemming  (does this helpful for this task)\n",
    "5. Tokenize words after all "
   ]
  },
  {
   "cell_type": "code",
   "execution_count": 6,
   "id": "163291fd",
   "metadata": {},
   "outputs": [
    {
     "name": "stdout",
     "output_type": "stream",
     "text": [
      "['will', 'go', 'toward', 'building', 'resilience', 'for', 'maines', 'businesses']\n",
      "['millionverifier', 'an', 'email', 'services', 'company', 'that', 'provides', 'email', 'verification', 'and', 'deliverability', 'support']\n",
      "['more', 'or', 'less']\n"
     ]
    }
   ],
   "source": [
    "# Clean and tokenize\n",
    "def preprocess(sentence):\n",
    "    sentence = sentence.lower()  # Lowercase\n",
    "    sentence = re.sub(r'[^a-zA-Z\\s]', '', sentence)  # Remove punctuations and numbers\n",
    "    tokens = word_tokenize(sentence)  # Tokenize using NLTK\n",
    "    return tokens\n",
    "\n",
    "# Apply to all sentences\n",
    "processed_sentences = [preprocess(s) for s in sentences]\n",
    "\n",
    "# Show a few examples\n",
    "for i in range(3):\n",
    "    print(processed_sentences[i])"
   ]
  },
  {
   "cell_type": "markdown",
   "id": "9b6ec452",
   "metadata": {},
   "source": [
    "### For this task, should we employ stemming or lemmatization❓ \n",
    "No. \\\n",
    "Lemmatization and stemming eliminate subtle meaning differences by reducing word forms to their base or root, which is why we avoid them. To better represent how words are used in various contexts, we aim to maintain all natural word forms in word embeddings."
   ]
  },
  {
   "cell_type": "markdown",
   "id": "fc33788b",
   "metadata": {},
   "source": [
    "### Build Vocabulary : after experimenting, build vocab_sizes with 15k words"
   ]
  },
  {
   "cell_type": "code",
   "execution_count": 7,
   "id": "810829f4",
   "metadata": {},
   "outputs": [],
   "source": [
    "# Flatten tokens to build vocab\n",
    "flat_words = [word for sentence in processed_sentences for word in sentence]\n",
    "vocab_counter = Counter(flat_words)\n",
    "\n",
    "# Keep top N words\n",
    "vocab_size = 10000  # You can experiment here with different different vocab_size like 10k, 20k etc\n",
    "vocab = [word for word, freq in vocab_counter.most_common(vocab_size)]"
   ]
  },
  {
   "cell_type": "markdown",
   "id": "c2b206b8",
   "metadata": {},
   "source": [
    "Now that we've built the vocabulary from the most frequent words, how can we assign meaningful IDs to these words instead of just arbitrary numbers?\n",
    "\n",
    "There are several strategies we can use:\n",
    "\n",
    "Frequency-based indexing ---> (most common and efficient)\n",
    "\n",
    "POS-based ordering ---> (useful for linguistic analysis)\n"
   ]
  },
  {
   "cell_type": "markdown",
   "id": "3634e205",
   "metadata": {},
   "source": [
    "# # POS-based order --> For linguistic analysis"
   ]
  },
  {
   "cell_type": "code",
   "execution_count": 8,
   "id": "aaf8fa52",
   "metadata": {},
   "outputs": [
    {
     "name": "stderr",
     "output_type": "stream",
     "text": [
      "[nltk_data] Downloading package averaged_perceptron_tagger_eng to\n",
      "[nltk_data]     C:\\Users\\Lenovo\\AppData\\Roaming\\nltk_data...\n",
      "[nltk_data]   Package averaged_perceptron_tagger_eng is already up-to-\n",
      "[nltk_data]       date!\n"
     ]
    }
   ],
   "source": [
    "# POS-based order --> For linguistic analysis\n",
    "\n",
    "import nltk\n",
    "nltk.download('averaged_perceptron_tagger_eng')\n",
    "\n",
    "pos_tags = nltk.pos_tag(vocab)  # [('word1', 'NN'), ('word2', 'VB'), ...]\n",
    "\n",
    "# Separate into POS categories\n",
    "nouns = [word for word, tag in pos_tags if tag.startswith('NN')]\n",
    "verbs = [word for word, tag in pos_tags if tag.startswith('VB')]\n",
    "adjs  = [word for word, tag in pos_tags if tag.startswith('JJ')]\n",
    "\n",
    "ordered_vocab = nouns + verbs + adjs\n",
    "word2id = {word: i for i, word in enumerate(ordered_vocab)}\n",
    "id2word = {i: word for i, word in enumerate(ordered_vocab)}"
   ]
  },
  {
   "cell_type": "markdown",
   "id": "31409478",
   "metadata": {},
   "source": [
    "### Building the Co-occurrence Matrix\n",
    "We construct the co-occurrence matrix by counting how often word pairs appear within a context window, which can be adjusted based on experimentation. For each sentence, we update the matrix for every target-context word pair found within the specified window size."
   ]
  },
  {
   "cell_type": "markdown",
   "id": "92bb7640",
   "metadata": {},
   "source": [
    "### Choosing Window Size\n",
    "\n",
    "Small (2-5 words): Captures local relationships (syntax). \\\n",
    "Medium (5-10 words): Captures semantic meaning.\\\n",
    "Large (>10 words): Captures broader context."
   ]
  },
  {
   "cell_type": "code",
   "execution_count": 9,
   "id": "75ebdd9c",
   "metadata": {},
   "outputs": [
    {
     "name": "stderr",
     "output_type": "stream",
     "text": [
      "100%|██████████| 300000/300000 [01:18<00:00, 3800.42it/s]\n"
     ]
    }
   ],
   "source": [
    "### Construct the Co-occurrence Matrix\n",
    "import numpy as np\n",
    "from tqdm import tqdm\n",
    "cooc_matrix = np.zeros((vocab_size, vocab_size), dtype=np.float32)\n",
    "window_size = 4  # To capture semantic meaning, keep the window size between 2 and 5.\n",
    "\n",
    "for sentence in tqdm(processed_sentences):\n",
    "    sentence = [word for word in sentence if word in word2id]\n",
    "    for idx, word in enumerate(sentence):\n",
    "        word_id = word2id[word]\n",
    "        start = max(0, idx - window_size)\n",
    "        end = min(len(sentence), idx + window_size + 1)\n",
    "        for i in range(start, end):\n",
    "            if i != idx:\n",
    "                context_id = word2id[sentence[i]]\n",
    "                cooc_matrix[word_id][context_id] += 1"
   ]
  },
  {
   "cell_type": "markdown",
   "id": "34ebf420",
   "metadata": {},
   "source": [
    "# What's next?\n",
    "\n",
    "To turn that matrix into word embeddings, you need to apply a technique like: \\\n",
    "\n",
    "Method -----> What it does \\\n",
    "PCA / SVD -----> Reduce matrix to low-dimensional dense vectors \\\n",
    "NMF (Non-negative Matrix Factorization) ---> Factorizes co-occurrence matrix into interpretable non-negatives \\\n",
    "word2vec -----> Learns embeddings directly via neural nets (skip-gram/CBOW)"
   ]
  },
  {
   "cell_type": "code",
   "execution_count": 10,
   "id": "28d4eda8",
   "metadata": {},
   "outputs": [
    {
     "name": "stdout",
     "output_type": "stream",
     "text": [
      "Applying NMF with d = 50\n"
     ]
    },
    {
     "name": "stderr",
     "output_type": "stream",
     "text": [
      "d:\\RESEARCH related\\PreCog tasks\\precog_venv\\Lib\\site-packages\\sklearn\\decomposition\\_nmf.py:1742: ConvergenceWarning: Maximum number of iterations 300 reached. Increase it to improve convergence.\n",
      "  warnings.warn(\n"
     ]
    },
    {
     "name": "stdout",
     "output_type": "stream",
     "text": [
      "NMF Embeddings Shape (d=50): (10000, 50)\n",
      "Applying NMF with d = 100\n"
     ]
    },
    {
     "name": "stderr",
     "output_type": "stream",
     "text": [
      "d:\\RESEARCH related\\PreCog tasks\\precog_venv\\Lib\\site-packages\\sklearn\\decomposition\\_nmf.py:1742: ConvergenceWarning: Maximum number of iterations 300 reached. Increase it to improve convergence.\n",
      "  warnings.warn(\n"
     ]
    },
    {
     "name": "stdout",
     "output_type": "stream",
     "text": [
      "NMF Embeddings Shape (d=100): (10000, 100)\n",
      "Applying NMF with d = 200\n"
     ]
    },
    {
     "name": "stderr",
     "output_type": "stream",
     "text": [
      "d:\\RESEARCH related\\PreCog tasks\\precog_venv\\Lib\\site-packages\\sklearn\\decomposition\\_nmf.py:1742: ConvergenceWarning: Maximum number of iterations 300 reached. Increase it to improve convergence.\n",
      "  warnings.warn(\n"
     ]
    },
    {
     "name": "stdout",
     "output_type": "stream",
     "text": [
      "NMF Embeddings Shape (d=200): (10000, 200)\n"
     ]
    }
   ],
   "source": [
    "from sklearn.decomposition import NMF\n",
    "\n",
    "# Experiment with different values of d\n",
    "d_values = [50, 100, 200]\n",
    "nmf_results = {}\n",
    "\n",
    "for d in d_values:\n",
    "    print(f\"Applying NMF with d = {d}\")\n",
    "    nmf_model = NMF(n_components=d, init='nndsvd', random_state=42, max_iter=300)\n",
    "    W = nmf_model.fit_transform(cooc_matrix)  # Shape: (N, d)\n",
    "    nmf_results[d] = W\n",
    "    print(f\"NMF Embeddings Shape (d={d}):\", W.shape)"
   ]
  },
  {
   "cell_type": "markdown",
   "id": "d8875383",
   "metadata": {},
   "source": [
    "### select for better dimension based on average similarity"
   ]
  },
  {
   "cell_type": "code",
   "execution_count": 11,
   "id": "b310e8b3",
   "metadata": {},
   "outputs": [
    {
     "name": "stdout",
     "output_type": "stream",
     "text": [
      "\n",
      "🔍 Cosine Similarities for d = 50:\n",
      "Cosine(king, queen) = 0.8026\n",
      "Cosine(man, woman) = 0.9502\n",
      "Cosine(paris, france) = 0.5265\n",
      "Cosine(apple, fruit) = 0.5608\n",
      "Cosine(doctor, hospital) = 0.6753\n",
      "✅ Average Cosine Similarity (d=50) = 0.7031\n",
      "\n",
      "🔍 Cosine Similarities for d = 100:\n",
      "Cosine(king, queen) = 0.6326\n",
      "Cosine(man, woman) = 0.9400\n",
      "Cosine(paris, france) = 0.7100\n",
      "Cosine(apple, fruit) = 0.3534\n",
      "Cosine(doctor, hospital) = 0.5743\n",
      "✅ Average Cosine Similarity (d=100) = 0.6421\n",
      "\n",
      "🔍 Cosine Similarities for d = 200:\n",
      "Cosine(king, queen) = 0.5819\n",
      "Cosine(man, woman) = 0.9349\n",
      "Cosine(paris, france) = 0.5119\n",
      "Cosine(apple, fruit) = 0.5100\n",
      "Cosine(doctor, hospital) = 0.6750\n",
      "✅ Average Cosine Similarity (d=200) = 0.6427\n",
      "\n",
      "🏆 Best performing embedding dimension based on average similarity: d = 50\n"
     ]
    }
   ],
   "source": [
    "from sklearn.metrics.pairwise import cosine_similarity\n",
    "\n",
    "# Define word pairs to evaluate\n",
    "sample_pairs = [('king', 'queen'), ('man', 'woman'), ('paris', 'france'), ('apple', 'fruit'), ('doctor', 'hospital')]\n",
    "\n",
    "# Function to evaluate cosine similarity between word pairs\n",
    "def evaluate_similarity(embeddings, word2id, word_pairs):\n",
    "    scores = []\n",
    "    for w1, w2 in word_pairs:\n",
    "        if w1 in word2id and w2 in word2id:\n",
    "            v1 = embeddings[word2id[w1]]\n",
    "            v2 = embeddings[word2id[w2]]\n",
    "            sim = cosine_similarity([v1], [v2])[0][0]\n",
    "            scores.append((w1, w2, sim))\n",
    "    return scores\n",
    "\n",
    "# Track average scores across all dimensions\n",
    "average_scores = {}\n",
    "\n",
    "for d in nmf_results:\n",
    "    print(f\"\\n🔍 Cosine Similarities for d = {d}:\")\n",
    "    results = evaluate_similarity(nmf_results[d], word2id, sample_pairs)\n",
    "    total = 0\n",
    "    for w1, w2, score in results:\n",
    "        print(f\"Cosine({w1}, {w2}) = {score:.4f}\")\n",
    "        total += score\n",
    "    avg = total / len(results)\n",
    "    average_scores[d] = avg\n",
    "    print(f\"✅ Average Cosine Similarity (d={d}) = {avg:.4f}\")\n",
    "\n",
    "# Print the best d based on average similarity\n",
    "best_d = max(average_scores, key=average_scores.get)\n",
    "print(f\"\\n🏆 Best performing embedding dimension based on average similarity: d = {best_d}\")"
   ]
  },
  {
   "cell_type": "markdown",
   "id": "aa055c1e",
   "metadata": {},
   "source": [
    "# Check for cosine similarity between words"
   ]
  },
  {
   "cell_type": "code",
   "execution_count": 12,
   "id": "42d761c9",
   "metadata": {},
   "outputs": [
    {
     "name": "stdout",
     "output_type": "stream",
     "text": [
      "king vs queen → 0.5819198\n",
      "king vs sword → 0.566301\n",
      "king vs virat → ❌ One or both words not in vocabulary.\n"
     ]
    }
   ],
   "source": [
    "from sklearn.metrics.pairwise import cosine_similarity\n",
    "\n",
    "# Function to calculate cosine similarity between two words\n",
    "def get_similarity(word1, word2, reduced_matrix, word2id):\n",
    "    if word1 in word2id and word2 in word2id:\n",
    "        vec1 = reduced_matrix[word2id[word1]]\n",
    "        vec2 = reduced_matrix[word2id[word2]]\n",
    "        return cosine_similarity([vec1], [vec2])[0][0]\n",
    "    else:\n",
    "        return f\"❌ One or both words not in vocabulary.\"\n",
    "\n",
    "# Example checks for NMF reduced embedding of size 200\n",
    "print(\"king vs queen →\", get_similarity(\"king\", \"queen\", nmf_results[200], word2id))\n",
    "print(\"king vs sword →\", get_similarity(\"king\", \"sword\", nmf_results[200], word2id))\n",
    "print(\"king vs virat →\", get_similarity(\"king\", \"virat\", nmf_results[200], word2id))"
   ]
  },
  {
   "cell_type": "code",
   "execution_count": 13,
   "id": "842818b7",
   "metadata": {},
   "outputs": [
    {
     "data": {
      "image/png": "[encoded data removed]",
      "text/plain": [
       "<Figure size 800x600 with 1 Axes>"
      ]
     },
     "metadata": {},
     "output_type": "display_data"
    }
   ],
   "source": [
    "from sklearn.decomposition import PCA\n",
    "from sklearn.cluster import KMeans\n",
    "import matplotlib.pyplot as plt\n",
    "import seaborn as sns\n",
    "\n",
    "# Words to visualize\n",
    "cluster_words = [\"king\", \"queen\", \"man\", \"woman\", \"apple\", \"dog\", \"cat\", \"father\", \"mother\", \"male\", \"female\", \"husband\", \"wife\"]\n",
    "\n",
    "# Step 1: Choose your NMF embedding (e.g., 50D or 100D)\n",
    "embedding_nmf = nmf_results[200]  # Make sure you used 50 in your previous reduction step\n",
    "\n",
    "# Step 2: Reduce to 2D using PCA for plotting\n",
    "pca = PCA(n_components=2)\n",
    "embedding_2d = pca.fit_transform(embedding_nmf)\n",
    "\n",
    "# Step 3: Extract the vectors for your chosen words\n",
    "vecs = [embedding_2d[word2id[word]] for word in cluster_words if word in word2id]\n",
    "\n",
    "# Step 4: Cluster them\n",
    "labels = KMeans(n_clusters=4, random_state=42).fit_predict(vecs)\n",
    "\n",
    "# Step 5: Plot with annotations\n",
    "plt.figure(figsize=(8, 6))\n",
    "sns.scatterplot(x=[v[0] for v in vecs], y=[v[1] for v in vecs], hue=labels, palette=\"tab10\", s=100)\n",
    "\n",
    "for word in cluster_words:\n",
    "    if word in word2id:\n",
    "        x, y = embedding_2d[word2id[word]]\n",
    "        plt.text(x + 0.01, y + 0.01, word, fontsize=9)\n",
    "\n",
    "plt.title(\"Word Clusters using NMF + PCA\")\n",
    "plt.grid(True)\n",
    "plt.show()"
   ]
  },
  {
   "cell_type": "markdown",
   "id": "f7a91254",
   "metadata": {},
   "source": [
    "## how about checking for Contextualized Evaluation ??\n",
    "\n",
    "Contextual Similarity Shift (e.g. “bank” in finance vs river)"
   ]
  },
  {
   "cell_type": "code",
   "execution_count": 14,
   "id": "9e604b08",
   "metadata": {},
   "outputs": [],
   "source": [
    "def build_contextual_cooc_matrix(context_lines, target_words, shared_vocab=None, window_size=2):\n",
    "    word2id = {} if shared_vocab is None else {word: idx for idx, word in enumerate(shared_vocab)}\n",
    "    data = []\n",
    "\n",
    "    for line in context_lines:\n",
    "        tokens = line.lower().split()\n",
    "        for idx, word in enumerate(tokens):\n",
    "            if word in target_words:\n",
    "                context_ids = []\n",
    "                for i in range(idx - window_size, idx + window_size + 1):\n",
    "                    if 0 <= i < len(tokens) and i != idx:\n",
    "                        context_word = tokens[i]\n",
    "                        if context_word not in word2id:\n",
    "                            word2id[context_word] = len(word2id)\n",
    "                        context_ids.append(word2id[context_word])\n",
    "                data.append((word2id[word], context_ids))\n",
    "\n",
    "    vocab = [None] * len(word2id)\n",
    "    for w, i in word2id.items():\n",
    "        vocab[i] = w\n",
    "\n",
    "    # Create matrix\n",
    "    matrix = np.zeros((len(word2id), len(word2id)))\n",
    "    for center, contexts in data:\n",
    "        for context in contexts:\n",
    "            matrix[center, context] += 1\n",
    "\n",
    "    return matrix, word2id, vocab"
   ]
  },
  {
   "cell_type": "code",
   "execution_count": 15,
   "id": "517ebbac",
   "metadata": {},
   "outputs": [
    {
     "name": "stdout",
     "output_type": "stream",
     "text": [
      "📉 Contextual similarity shift for 'bank': 0.4005\n"
     ]
    }
   ],
   "source": [
    "# 🧾 Example: compare \"bank\" in two contexts\n",
    "finance_corpus = [\n",
    "    \"The bank approved a loan to the company\",\n",
    "    \"The central bank regulated monetary policies\",\n",
    "    \"She works in a private bank as a clerk\"\n",
    "]\n",
    "\n",
    "river_corpus = [\n",
    "    \"The boat sailed along the river bank\",\n",
    "    \"They camped near the grassy bank of the river\",\n",
    "    \"The bank was flooded after heavy rains\"\n",
    "]\n",
    "\n",
    "# Build shared vocabulary\n",
    "all_tokens = set()\n",
    "for line in finance_corpus + river_corpus:\n",
    "    all_tokens.update(line.lower().split())\n",
    "shared_vocab = sorted(list(all_tokens))\n",
    "\n",
    "# Build co-occurrence matrices\n",
    "matrix_fin, word2id_fin, _ = build_contextual_cooc_matrix(finance_corpus, ['bank'], shared_vocab)\n",
    "matrix_riv, word2id_riv, _ = build_contextual_cooc_matrix(river_corpus, ['bank'], shared_vocab)\n",
    "\n",
    "# Get contextual vectors\n",
    "vec_bank_fin = matrix_fin[word2id_fin['bank']]\n",
    "vec_bank_riv = matrix_riv[word2id_riv['bank']]\n",
    "\n",
    "# Compute contextual similarity\n",
    "similarity_shift = cosine_similarity([vec_bank_fin], [vec_bank_riv])[0][0]\n",
    "print(f\"📉 Contextual similarity shift for 'bank': {similarity_shift:.4f}\")"
   ]
  },
  {
   "cell_type": "markdown",
   "id": "555bfe06",
   "metadata": {},
   "source": [
    "# Evaluate the Quality of the Embeddings"
   ]
  },
  {
   "cell_type": "code",
   "execution_count": 16,
   "id": "3fbc4c72",
   "metadata": {},
   "outputs": [
    {
     "name": "stdout",
     "output_type": "stream",
     "text": [
      "Skipping: he-him+her=she (missing word)\n",
      "Skipping: strong-stronger+fast=faster (missing word)\n",
      "\n",
      "📊 Total Analogies Tested: 3\n",
      "✅ Top-1 Accuracy: 0.00%\n",
      "✅ Top-5 Accuracy: 0.00%\n",
      "❌ Error Rate (Top-1): 100.00%\n",
      "❌ Error Rate (Top-5): 100.00%\n"
     ]
    }
   ],
   "source": [
    "import numpy as np\n",
    "from sklearn.metrics.pairwise import cosine_similarity\n",
    "\n",
    "# Define analogies: A is to B as C is to D\n",
    "analogy_tasks = [\n",
    "    ('king', 'man', 'woman', 'queen'),\n",
    "    ('paris', 'france', 'italy', 'rome'),\n",
    "    ('he', 'him', 'her', 'she'),\n",
    "    ('strong', 'stronger', 'fast', 'faster'),\n",
    "    ('good', 'better', 'bad', 'worse'),\n",
    "]\n",
    "\n",
    "def evaluate_analogies(embedding_matrix, word2id, id2word, analogies, top_k=5):\n",
    "    correct_top1 = 0\n",
    "    correct_topk = 0\n",
    "    total = 0\n",
    "\n",
    "    for a, b, c, expected in analogies:\n",
    "        if all(word in word2id for word in [a, b, c, expected]):\n",
    "            vec_a = embedding_matrix[word2id[a]]\n",
    "            vec_b = embedding_matrix[word2id[b]]\n",
    "            vec_c = embedding_matrix[word2id[c]]\n",
    "            target_vec = vec_a - vec_b + vec_c\n",
    "\n",
    "            similarities = cosine_similarity([target_vec], embedding_matrix)[0]\n",
    "\n",
    "            # Avoid retrieving input words\n",
    "            for word in (a, b, c):\n",
    "                similarities[word2id[word]] = -np.inf\n",
    "\n",
    "            topk_indices = similarities.argsort()[::-1][:top_k]\n",
    "            topk_words = [id2word[i] for i in topk_indices]\n",
    "\n",
    "            if expected in topk_words:\n",
    "                correct_topk += 1\n",
    "                if topk_words[0] == expected:\n",
    "                    correct_top1 += 1\n",
    "            total += 1\n",
    "        else:\n",
    "            print(f\"Skipping: {a}-{b}+{c}={expected} (missing word)\")\n",
    "\n",
    "    # Print results\n",
    "    print(f\"\\n📊 Total Analogies Tested: {total}\")\n",
    "    print(f\"✅ Top-1 Accuracy: {correct_top1 / total:.2%}\")\n",
    "    print(f\"✅ Top-{top_k} Accuracy: {correct_topk / total:.2%}\")\n",
    "    print(f\"❌ Error Rate (Top-1): {100 - (correct_top1 / total * 100):.2f}%\")\n",
    "    print(f\"❌ Error Rate (Top-{top_k}): {100 - (correct_topk / total * 100):.2f}%\")\n",
    "\n",
    "# Example: Run it on NMF 100D embeddings\n",
    "evaluate_analogies(nmf_results[100], word2id, id2word, analogy_tasks, top_k=5)"
   ]
  },
  {
   "cell_type": "markdown",
   "id": "1ecf2de1",
   "metadata": {},
   "source": [
    "### saving this model as 4_embedding correspond to this 4_POS_based_NMF file"
   ]
  },
  {
   "cell_type": "code",
   "execution_count": 17,
   "id": "c839d3cd",
   "metadata": {},
   "outputs": [
    {
     "name": "stdout",
     "output_type": "stream",
     "text": [
      "✅ Embedding saved successfully to '4_embeddings.npy'\n"
     ]
    }
   ],
   "source": [
    "import numpy as np\n",
    "import os\n",
    "\n",
    "# Define where you want to save the embeddings\n",
    "save_path = \"D:\\\\RESEARCH related\\\\PreCog tasks\\\\Language_representations\\\\models\"\n",
    "os.makedirs(save_path, exist_ok=True)\n",
    "\n",
    "embedding_to_save = nmf_results[200]  # NMF with 200 dimensions\n",
    "\n",
    "# Save as a numbered file (e.g., 4_embeddings.npy)\n",
    "np.save(os.path.join(save_path, \"4_embeddings.npy\"), embedding_to_save)\n",
    "\n",
    "print(\"✅ Embedding saved successfully to '4_embeddings.npy'\")\n"
   ]
  },
  {
   "cell_type": "markdown",
   "id": "b05b28ba",
   "metadata": {},
   "source": [
    "### storing embeddings in pickle formate "
   ]
  },
  {
   "cell_type": "code",
   "execution_count": 18,
   "id": "38dad975",
   "metadata": {},
   "outputs": [
    {
     "name": "stdout",
     "output_type": "stream",
     "text": [
      "✅ Word embeddings dictionary saved as 4_word_embeddings.pkl\n"
     ]
    }
   ],
   "source": [
    "import pickle\n",
    "import numpy as np\n",
    "import os\n",
    "\n",
    "embedding_matrix = nmf_results[200]  # NMF with 200 dimensions\n",
    "\n",
    "# Convert to dictionary format: {word: embedding}\n",
    "word2embedding = {word: embedding_matrix[word2id[word]] for word in word2id if word2id[word] < embedding_matrix.shape[0]}\n",
    "\n",
    "# Save as pickle\n",
    "save_path = \"D:\\\\RESEARCH related\\\\PreCog tasks\\\\Language_representations\\\\models\"\n",
    "os.makedirs(save_path, exist_ok=True)\n",
    "\n",
    "with open(os.path.join(save_path, \"4_word_embeddings.pkl\"), 'wb') as f:\n",
    "    pickle.dump(word2embedding, f)\n",
    "\n",
    "print(\"✅ Word embeddings dictionary saved as 4_word_embeddings.pkl\")\n"
   ]
  },
  {
   "cell_type": "code",
   "execution_count": null,
   "id": "dd0cfc8e",
   "metadata": {},
   "outputs": [],
   "source": []
  }
 ],
 "metadata": {
  "kernelspec": {
   "display_name": "Python 3",
   "language": "python",
   "name": "python3"
  },
  "language_info": {
   "codemirror_mode": {
    "name": "ipython",
    "version": 3
   },
   "file_extension": ".py",
   "mimetype": "text/x-python",
   "name": "python",
   "nbconvert_exporter": "python",
   "pygments_lexer": "ipython3",
   "version": "3.12.0"
  }
 },
 "nbformat": 4,
 "nbformat_minor": 5
}
