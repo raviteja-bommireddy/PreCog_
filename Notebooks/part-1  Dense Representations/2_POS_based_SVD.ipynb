{
 "cells": [
  {
   "cell_type": "markdown",
   "id": "00bcf75d",
   "metadata": {},
   "source": [
    "# 🔧 Install & Import Dependencies\n"
   ]
  },
  {
   "cell_type": "code",
   "execution_count": 1,
   "id": "4d9e4b0a",
   "metadata": {},
   "outputs": [
    {
     "name": "stderr",
     "output_type": "stream",
     "text": [
      "[nltk_data] Downloading package punkt to\n",
      "[nltk_data]     C:\\Users\\Lenovo\\AppData\\Roaming\\nltk_data...\n",
      "[nltk_data]   Package punkt is already up-to-date!\n",
      "[nltk_data] Downloading package stopwords to\n",
      "[nltk_data]     C:\\Users\\Lenovo\\AppData\\Roaming\\nltk_data...\n",
      "[nltk_data]   Package stopwords is already up-to-date!\n",
      "[nltk_data] Downloading package punkt_tab to\n",
      "[nltk_data]     C:\\Users\\Lenovo\\AppData\\Roaming\\nltk_data...\n",
      "[nltk_data]   Package punkt_tab is already up-to-date!\n"
     ]
    },
    {
     "data": {
      "text/plain": [
       "True"
      ]
     },
     "execution_count": 1,
     "metadata": {},
     "output_type": "execute_result"
    }
   ],
   "source": [
    "import nltk\n",
    "import re\n",
    "from nltk.tokenize import word_tokenize\n",
    "from nltk.corpus import stopwords\n",
    "from collections import Counter\n",
    "\n",
    "# Download necessary NLTK data\n",
    "nltk.download('punkt')\n",
    "nltk.download('stopwords')\n",
    "nltk.download('punkt_tab')  # punkt_tab is optional"
   ]
  },
  {
   "cell_type": "markdown",
   "id": "ac714a9d",
   "metadata": {},
   "source": [
    "We will explore the generation of dense word representations from text corpora, analyze the quality of these representations. The goal is to understand how to represent word meaning in a high-dimensional space and how to transfer knowledge across languages.\n",
    "\n",
    "Please use the links below to download text corpora. \\\n",
    "English: https://wortschatz.uni-leipzig.de/en/download/English \\\n",
    "Hindi: https://wortschatz.uni-leipzig.de/en/download/Hindi"
   ]
  },
  {
   "cell_type": "markdown",
   "id": "3d12292a",
   "metadata": {},
   "source": [
    "# Load the English Corpus"
   ]
  },
  {
   "cell_type": "code",
   "execution_count": 2,
   "id": "637e3184",
   "metadata": {},
   "outputs": [
    {
     "name": "stderr",
     "output_type": "stream",
     "text": [
      "<>:2: SyntaxWarning: invalid escape sequence '\\R'\n",
      "<>:2: SyntaxWarning: invalid escape sequence '\\R'\n",
      "C:\\Users\\Lenovo\\AppData\\Local\\Temp\\ipykernel_13996\\3237838278.py:2: SyntaxWarning: invalid escape sequence '\\R'\n",
      "  with open(\"D:\\RESEARCH related\\PreCog tasks\\Language_representations\\Data\\eng_news_2020_300K\\eng_news_2020_300K\\eng_news_2020_300K-sentences.txt\", \"r\", encoding='utf8') as f:\n"
     ]
    },
    {
     "name": "stdout",
     "output_type": "stream",
     "text": [
      "Total sentences loaded: 300000\n"
     ]
    }
   ],
   "source": [
    "# Load corpus\n",
    "with open(\"D:\\RESEARCH related\\PreCog tasks\\Language_representations\\Data\\eng_news_2020_300K\\eng_news_2020_300K\\eng_news_2020_300K-sentences.txt\", \"r\", encoding='utf8') as f:\n",
    "    sentences = f.readlines()\n",
    "    sentences = [sentence.strip() for sentence in sentences]\n",
    "\n",
    "print(f\"Total sentences loaded: {len(sentences)}\")"
   ]
  },
  {
   "cell_type": "markdown",
   "id": "e7f2a20d",
   "metadata": {},
   "source": [
    "# preprocessing of data\n",
    "1. Lowercase\n",
    "2. Remove non-alphabetic characters (removing punctuations)\n",
    "3. how about stop words removal --> they impact hugely in co occurence matrices so don't do it.\n",
    "4. lemitization & stemming  (does this helpful for this task)\n",
    "5. Tokenize words after all "
   ]
  },
  {
   "cell_type": "code",
   "execution_count": 3,
   "id": "163291fd",
   "metadata": {},
   "outputs": [
    {
     "name": "stdout",
     "output_type": "stream",
     "text": [
      "['will', 'go', 'toward', 'building', 'resilience', 'for', 'maines', 'businesses']\n",
      "['millionverifier', 'an', 'email', 'services', 'company', 'that', 'provides', 'email', 'verification', 'and', 'deliverability', 'support']\n",
      "['more', 'or', 'less']\n"
     ]
    }
   ],
   "source": [
    "# Clean and tokenize\n",
    "def preprocess(sentence):\n",
    "    sentence = sentence.lower()  # Lowercase\n",
    "    sentence = re.sub(r'[^a-zA-Z\\s]', '', sentence)  # Remove punctuations and numbers\n",
    "    tokens = word_tokenize(sentence)  # Tokenize using NLTK\n",
    "    return tokens\n",
    "\n",
    "# Apply to all sentences\n",
    "processed_sentences = [preprocess(s) for s in sentences]\n",
    "\n",
    "# Show a few examples\n",
    "for i in range(3):\n",
    "    print(processed_sentences[i])"
   ]
  },
  {
   "cell_type": "markdown",
   "id": "9b6ec452",
   "metadata": {},
   "source": [
    "### For this task, should we employ stemming or lemmatization❓ \n",
    "No. \\\n",
    "Lemmatization and stemming eliminate subtle meaning differences by reducing word forms to their base or root, which is why we avoid them. To better represent how words are used in various contexts, we aim to maintain all natural word forms in word embeddings."
   ]
  },
  {
   "cell_type": "markdown",
   "id": "fc33788b",
   "metadata": {},
   "source": [
    "### Build Vocabulary : after experimenting, build vocab_sizes with 15k words"
   ]
  },
  {
   "cell_type": "code",
   "execution_count": 4,
   "id": "810829f4",
   "metadata": {},
   "outputs": [],
   "source": [
    "# Flatten tokens to build vocab\n",
    "flat_words = [word for sentence in processed_sentences for word in sentence]\n",
    "vocab_counter = Counter(flat_words)\n",
    "\n",
    "# Keep top N words\n",
    "vocab_size = 15000  # You can experiment here with different different vocab_size like 10k, 20k etc\n",
    "vocab = [word for word, freq in vocab_counter.most_common(vocab_size)]"
   ]
  },
  {
   "cell_type": "markdown",
   "id": "c2b206b8",
   "metadata": {},
   "source": [
    "Now that we've built the vocabulary from the most frequent words, how can we assign meaningful IDs to these words instead of just arbitrary numbers?\n",
    "\n",
    "There are several strategies we can use:\n",
    "\n",
    "Frequency-based indexing ---> (most common and efficient)\n",
    "\n",
    "POS-based ordering ---> (useful for linguistic analysis)\n"
   ]
  },
  {
   "cell_type": "markdown",
   "id": "3634e205",
   "metadata": {},
   "source": [
    "# # POS-based order --> For linguistic analysis"
   ]
  },
  {
   "cell_type": "code",
   "execution_count": 26,
   "id": "aaf8fa52",
   "metadata": {},
   "outputs": [
    {
     "name": "stderr",
     "output_type": "stream",
     "text": [
      "[nltk_data] Downloading package averaged_perceptron_tagger_eng to\n",
      "[nltk_data]     C:\\Users\\Lenovo\\AppData\\Roaming\\nltk_data...\n",
      "[nltk_data]   Package averaged_perceptron_tagger_eng is already up-to-\n",
      "[nltk_data]       date!\n"
     ]
    }
   ],
   "source": [
    "# POS-based order --> For linguistic analysis\n",
    "\n",
    "import nltk\n",
    "nltk.download('averaged_perceptron_tagger_eng')\n",
    "\n",
    "pos_tags = nltk.pos_tag(vocab)  # [('word1', 'NN'), ('word2', 'VB'), ...]\n",
    "\n",
    "# Separate into POS categories\n",
    "nouns = [word for word, tag in pos_tags if tag.startswith('NN')]\n",
    "verbs = [word for word, tag in pos_tags if tag.startswith('VB')]\n",
    "adjs  = [word for word, tag in pos_tags if tag.startswith('JJ')]\n",
    "\n",
    "ordered_vocab = nouns + verbs + adjs\n",
    "word2id = {word: i for i, word in enumerate(ordered_vocab)}\n",
    "id2word = {i: word for i, word in enumerate(ordered_vocab)}"
   ]
  },
  {
   "cell_type": "markdown",
   "id": "31409478",
   "metadata": {},
   "source": [
    "### Building the Co-occurrence Matrix\n",
    "We construct the co-occurrence matrix by counting how often word pairs appear within a context window, which can be adjusted based on experimentation. For each sentence, we update the matrix for every target-context word pair found within the specified window size."
   ]
  },
  {
   "cell_type": "markdown",
   "id": "92bb7640",
   "metadata": {},
   "source": [
    "### Choosing Window Size\n",
    "\n",
    "Small (2-5 words): Captures local relationships (syntax). \\\n",
    "Medium (5-10 words): Captures semantic meaning.\\\n",
    "Large (>10 words): Captures broader context."
   ]
  },
  {
   "cell_type": "code",
   "execution_count": 6,
   "id": "75ebdd9c",
   "metadata": {},
   "outputs": [
    {
     "name": "stderr",
     "output_type": "stream",
     "text": [
      "100%|██████████| 300000/300000 [01:05<00:00, 4594.93it/s]\n"
     ]
    }
   ],
   "source": [
    "### Construct the Co-occurrence Matrix\n",
    "import numpy as np\n",
    "from tqdm import tqdm\n",
    "cooc_matrix = np.zeros((vocab_size, vocab_size), dtype=np.float32)\n",
    "window_size = 4  # To capture semantic meaning, keep the window size between 2 and 5.\n",
    "\n",
    "for sentence in tqdm(processed_sentences):\n",
    "    sentence = [word for word in sentence if word in word2id]\n",
    "    for idx, word in enumerate(sentence):\n",
    "        word_id = word2id[word]\n",
    "        start = max(0, idx - window_size)\n",
    "        end = min(len(sentence), idx + window_size + 1)\n",
    "        for i in range(start, end):\n",
    "            if i != idx:\n",
    "                context_id = word2id[sentence[i]]\n",
    "                cooc_matrix[word_id][context_id] += 1"
   ]
  },
  {
   "cell_type": "markdown",
   "id": "34ebf420",
   "metadata": {},
   "source": [
    "# What's next?\n",
    "\n",
    "To turn that matrix into word embeddings, you need to apply a technique like: \\\n",
    "\n",
    "Method -----> What it does \\\n",
    "PCA / SVD -----> Reduce matrix to low-dimensional dense vectors \\\n",
    "NMF (Non-negative Matrix Factorization) ---> Factorizes co-occurrence matrix into interpretable non-negatives \\\n",
    "GloVe -----> Uses the co-occurrence matrix to train word vectors \\\n",
    "word2vec -----> Learns embeddings directly via neural nets (skip-gram/CBOW)"
   ]
  },
  {
   "cell_type": "code",
   "execution_count": 7,
   "id": "28d4eda8",
   "metadata": {},
   "outputs": [
    {
     "name": "stdout",
     "output_type": "stream",
     "text": [
      "Reducing dimensions to 50...\n",
      "Reducing dimensions to 100...\n",
      "Reducing dimensions to 200...\n",
      "Reducing dimensions to 300...\n"
     ]
    }
   ],
   "source": [
    "from sklearn.decomposition import TruncatedSVD\n",
    "\n",
    "# Function to perform SVD and reduce the co-occurrence matrix\n",
    "def reduce_dimensions(cooc_matrix, d):\n",
    "    svd = TruncatedSVD(n_components=d, random_state=42)\n",
    "    reduced_matrix = svd.fit_transform(cooc_matrix)\n",
    "    return reduced_matrix\n",
    "\n",
    "# Experimenting with different values of d\n",
    "d_values = [50, 100, 200, 300]  # You can experiment with other values like 10, 500, etc.\n",
    "\n",
    "# Store the reduced matrices for different d values\n",
    "reduced_matrices = {}\n",
    "\n",
    "for d in d_values:\n",
    "    print(f\"Reducing dimensions to {d}...\")\n",
    "    reduced_matrix = reduce_dimensions(cooc_matrix, d)\n",
    "    reduced_matrices[d] = reduced_matrix\n",
    "\n",
    "# Reduced matrices now contain the embeddings for each word in reduced space"
   ]
  },
  {
   "cell_type": "markdown",
   "id": "d8875383",
   "metadata": {},
   "source": [
    "### select for better dimension based on average similarity"
   ]
  },
  {
   "cell_type": "code",
   "execution_count": 9,
   "id": "b310e8b3",
   "metadata": {},
   "outputs": [
    {
     "name": "stdout",
     "output_type": "stream",
     "text": [
      "Average Cosine Similarities for different d values:\n",
      "d = 50: Average Similarity = 0.9690\n",
      "d = 100: Average Similarity = 0.9545\n",
      "d = 200: Average Similarity = 0.9376\n",
      "d = 300: Average Similarity = 0.9222\n",
      "Best d value: 50 with similarity score: 0.9690\n"
     ]
    }
   ],
   "source": [
    "from sklearn.metrics.pairwise import cosine_similarity\n",
    "import numpy as np\n",
    "\n",
    "# Function to calculate average cosine similarity for a set of word pairs\n",
    "def average_cosine_similarity(word_pairs, reduced_matrices, word2id):\n",
    "    avg_similarities = {}\n",
    "    \n",
    "    for d, reduced_matrix in reduced_matrices.items():\n",
    "        similarities = []\n",
    "        for word1, word2 in word_pairs:\n",
    "            if word1 in word2id and word2 in word2id:\n",
    "                vec1 = reduced_matrix[word2id[word1]]\n",
    "                vec2 = reduced_matrix[word2id[word2]]\n",
    "                similarities.append(cosine_similarity([vec1], [vec2])[0][0])\n",
    "        \n",
    "        avg_similarities[d] = np.mean(similarities)  # Compute average similarity for this d value\n",
    "\n",
    "    return avg_similarities\n",
    "\n",
    "# Define some word pairs to test (for analogy or similarity)\n",
    "word_pairs = [('king', 'queen'), ('man', 'woman'), ('dog', 'cat')]\n",
    "\n",
    "# Calculate the average cosine similarity for each d\n",
    "avg_similarities = average_cosine_similarity(word_pairs, reduced_matrices, word2id)\n",
    "\n",
    "# Print the results\n",
    "print(\"Average Cosine Similarities for different d values:\")\n",
    "for d, avg_sim in avg_similarities.items():\n",
    "    print(f\"d = {d}: Average Similarity = {avg_sim:.4f}\")\n",
    "\n",
    "# Find the best d value based on average similarity\n",
    "best_d = max(avg_similarities, key=avg_similarities.get)\n",
    "print(f\"Best d value: {best_d} with similarity score: {avg_similarities[best_d]:.4f}\")\n"
   ]
  },
  {
   "cell_type": "markdown",
   "id": "aa055c1e",
   "metadata": {},
   "source": [
    "# Check for cosine similarity between words"
   ]
  },
  {
   "cell_type": "code",
   "execution_count": 10,
   "id": "42d761c9",
   "metadata": {},
   "outputs": [
    {
     "name": "stdout",
     "output_type": "stream",
     "text": [
      "0.93257225\n",
      "0.8068147\n",
      "One or both words not in vocabulary.\n"
     ]
    }
   ],
   "source": [
    "from sklearn.metrics.pairwise import cosine_similarity\n",
    "\n",
    "# Function to calculate cosine similarity between two words\n",
    "def get_similarity(word1, word2, reduced_matrix, word2id):\n",
    "    if word1 in word2id and word2 in word2id and word2id[word1] < len(reduced_matrix) and word2id[word2] < len(reduced_matrix):\n",
    "        vec1 = reduced_matrix[word2id[word1]]\n",
    "        vec2 = reduced_matrix[word2id[word2]]\n",
    "        return cosine_similarity([vec1], [vec2])[0][0]\n",
    "    else:\n",
    "        return \"One or both words not in vocabulary.\"\n",
    "\n",
    "# Example similarity checks after dimensionality reduction\n",
    "print(get_similarity(\"king\", \"queen\", reduced_matrices[100], word2id))  # High similarity\n",
    "print(get_similarity(\"king\", \"sword\", reduced_matrices[100], word2id))    # Low similarity\n",
    "print(get_similarity(\"king\", \"virat\", reduced_matrices[100], word2id))    # No similarity -> OOV"
   ]
  },
  {
   "cell_type": "code",
   "execution_count": 11,
   "id": "842818b7",
   "metadata": {},
   "outputs": [
    {
     "data": {
      "image/png": "[encoded data removed]",
      "text/plain": [
       "<Figure size 640x480 with 1 Axes>"
      ]
     },
     "metadata": {},
     "output_type": "display_data"
    }
   ],
   "source": [
    "### clustering\n",
    "\n",
    "from sklearn.cluster import KMeans\n",
    "import matplotlib.pyplot as plt\n",
    "import seaborn as sns\n",
    "\n",
    "# Cluster and plot a few common words\n",
    "words = [\"king\", \"queen\", \"man\", \"woman\", \"apple\", \"dog\", \"cat\", \"father\", \"male\", \"female\", \"husband\", \"wife\"]\n",
    "vecs = [reduced_matrix[word2id[w]] for w in words]\n",
    "labels = KMeans(n_clusters=4).fit_predict(vecs)\n",
    "\n",
    "sns.scatterplot(x=[v[0] for v in vecs], y=[v[1] for v in vecs], hue=labels)\n",
    "for i, word in enumerate(words):\n",
    "    if word in word2id:  # Only annotate words present in word2id\n",
    "        plt.text(vecs[i][0], vecs[i][1], word)\n",
    "plt.show()"
   ]
  },
  {
   "cell_type": "markdown",
   "id": "9b93b395",
   "metadata": {},
   "source": [
    "# how about checking for Contextualized Evaluation "
   ]
  },
  {
   "cell_type": "code",
   "execution_count": 23,
   "id": "2fe8a4e9",
   "metadata": {},
   "outputs": [],
   "source": [
    "def build_contextual_cooc_matrix(context_lines, target_words, shared_vocab=None, window_size=2):\n",
    "    word2id = {} if shared_vocab is None else {word: idx for idx, word in enumerate(shared_vocab)}\n",
    "    data = []\n",
    "\n",
    "    for line in context_lines:\n",
    "        tokens = line.lower().split()\n",
    "        for idx, word in enumerate(tokens):\n",
    "            if word in target_words:\n",
    "                context_ids = []\n",
    "                for i in range(idx - window_size, idx + window_size + 1):\n",
    "                    if 0 <= i < len(tokens) and i != idx:\n",
    "                        context_word = tokens[i]\n",
    "                        if context_word not in word2id:\n",
    "                            word2id[context_word] = len(word2id)\n",
    "                        context_ids.append(word2id[context_word])\n",
    "                data.append((word2id[word], context_ids))\n",
    "\n",
    "    vocab = [None] * len(word2id)\n",
    "    for w, i in word2id.items():\n",
    "        vocab[i] = w\n",
    "\n",
    "    # Create matrix\n",
    "    matrix = np.zeros((len(word2id), len(word2id)))\n",
    "    for center, contexts in data:\n",
    "        for context in contexts:\n",
    "            matrix[center, context] += 1\n",
    "\n",
    "    return matrix, word2id, vocab"
   ]
  },
  {
   "cell_type": "code",
   "execution_count": 24,
   "id": "1acd26a4",
   "metadata": {},
   "outputs": [
    {
     "name": "stdout",
     "output_type": "stream",
     "text": [
      "Contextual similarity shift for 'bank': 0.5040\n"
     ]
    }
   ],
   "source": [
    "# Sample corpus\n",
    "corpus = [\n",
    "    \"The bank approved the loan for the customer.\",\n",
    "    \"The river bank was eroded after the heavy rains.\",\n",
    "    \"She deposited money in the bank yesterday.\",\n",
    "    \"The children played near the river bank.\",\n",
    "    \"The bank offers low-interest loans to its customers.\",\n",
    "    \"The river bank is a popular spot for picnics.\"\n",
    "]\n",
    "\n",
    "# Create shared vocabulary from both corpora\n",
    "all_tokens = set()\n",
    "for line in finance_corpus + river_corpus:\n",
    "    all_tokens.update(line.lower().split())\n",
    "shared_vocab = sorted(list(all_tokens))  # sort to keep it consistent\n",
    "\n",
    "# Build aligned co-occurrence matrices\n",
    "matrix_fin, word2id_fin, vocab_fin = build_contextual_cooc_matrix(finance_corpus, ['bank'], shared_vocab)\n",
    "matrix_riv, word2id_riv, vocab_riv = build_contextual_cooc_matrix(river_corpus, ['bank'], shared_vocab)\n",
    "\n",
    "# Extract vectors\n",
    "vec_bank_fin = matrix_fin[word2id_fin['bank']]\n",
    "vec_bank_riv = matrix_riv[word2id_riv['bank']]\n",
    "\n",
    "# Compute cosine similarity\n",
    "from sklearn.metrics.pairwise import cosine_similarity\n",
    "similarity_shift = cosine_similarity([vec_bank_fin], [vec_bank_riv])[0][0]\n",
    "print(f\"Contextual similarity shift for 'bank': {similarity_shift:.4f}\")\n"
   ]
  },
  {
   "cell_type": "markdown",
   "id": "555bfe06",
   "metadata": {},
   "source": [
    "# Evaluate the Quality of the Embeddings"
   ]
  },
  {
   "cell_type": "code",
   "execution_count": 12,
   "id": "3fbc4c72",
   "metadata": {},
   "outputs": [
    {
     "name": "stdout",
     "output_type": "stream",
     "text": [
      "Cosine Similarity Matrix:\n",
      " [[1.0000005  0.8927195  0.86401486 0.86300546]\n",
      " [0.8927195  0.9999997  0.822115   0.82222563]\n",
      " [0.86401486 0.822115   1.         0.97086495]\n",
      " [0.86300546 0.82222563 0.97086495 1.0000004 ]]\n",
      "\n",
      "Word Vectors:\n",
      "Most similar word to 'king - queen + woman' is: woman\n"
     ]
    }
   ],
   "source": [
    "import numpy as np\n",
    "from sklearn.metrics.pairwise import cosine_similarity\n",
    "\n",
    "# Select a few words to test similarity (e.g., 'king', 'queen', 'man', 'woman')\n",
    "words_to_check = ['king', 'queen', 'man', 'woman']\n",
    "word_indices = [word2id[word] for word in words_to_check]\n",
    "\n",
    "# Use 'embeddings' instead of 'reduced_matrix'\n",
    "word_vectors = reduced_matrix[word_indices]\n",
    "\n",
    "# Calculate cosine similarity between word vectors\n",
    "cos_sim = cosine_similarity(word_vectors)\n",
    "print(\"Cosine Similarity Matrix:\\n\", cos_sim)\n",
    "print(\"\\nWord Vectors:\")\n",
    "# Extract the vectors for 'king', 'queen', 'man', 'woman'\n",
    "king, queen, man, woman = word_vectors\n",
    "\n",
    "# Compute king - queen + woman and see if it is closest to the man vector\n",
    "analogy_vector = king - queen + woman\n",
    "\n",
    "# Calculate the cosine similarity between the analogy result and all word vectors\n",
    "analogy_similarities = cosine_similarity([analogy_vector], reduced_matrix)\n",
    "\n",
    "# Find the word most similar to the analogy vector\n",
    "most_similar_word_idx = np.argmax(analogy_similarities)\n",
    "most_similar_word = id2word[most_similar_word_idx]\n",
    "\n",
    "print(f\"Most similar word to 'king - queen + woman' is: {most_similar_word}\")\n"
   ]
  },
  {
   "cell_type": "markdown",
   "id": "1ecf2de1",
   "metadata": {},
   "source": [
    "### saving this model as 2_embedding correspond to this 1_POS_based_SVD file"
   ]
  },
  {
   "cell_type": "code",
   "execution_count": 13,
   "id": "c839d3cd",
   "metadata": {},
   "outputs": [
    {
     "name": "stdout",
     "output_type": "stream",
     "text": [
      "Embeddings saved successfully!\n"
     ]
    }
   ],
   "source": [
    "import numpy as np\n",
    "import os\n",
    "\n",
    "# Ensure the directory exists\n",
    "os.makedirs(\"models\", exist_ok=True)\n",
    "\n",
    "# Save the reduced embeddings to a file\n",
    "# Use the correct vocab_size and generate random embeddings\n",
    "word_embeddings = np.random.randn(vocab_size, 50)  # Example: 50-dimensional embeddings\n",
    "\n",
    "# Save the embeddings as a NumPy array\n",
    "np.save(\"D:\\\\RESEARCH related\\\\PreCog tasks\\\\Language_representations\\\\models\\\\2_embeddings.npy\", word_embeddings)\n",
    "\n",
    "print(\"Embeddings saved successfully!\") "
   ]
  },
  {
   "cell_type": "markdown",
   "id": "b05b28ba",
   "metadata": {},
   "source": [
    "### storing embeddings in pickle formate "
   ]
  },
  {
   "cell_type": "code",
   "execution_count": 15,
   "id": "38dad975",
   "metadata": {},
   "outputs": [
    {
     "name": "stdout",
     "output_type": "stream",
     "text": [
      "Word embeddings saved successfully to 2_word_embeddings.pkl\n"
     ]
    }
   ],
   "source": [
    "# Example: Store as a dictionary with word as the key and the embedding as the value\n",
    "word2embedding = {word: np.random.randn(300) for word in vocab}  # Random embeddings for example\n",
    "\n",
    "# Use pickle for storing a dictionary (useful for complex data structures)\n",
    "import pickle\n",
    "\n",
    "with open(\"D:\\\\RESEARCH related\\\\PreCog tasks\\\\Language_representations\\\\models\\\\2_word_embeddings.pkl\", 'wb') as f:\n",
    "    pickle.dump(word2embedding, f)\n",
    "    f.close()\n",
    "\n",
    "print(\"Word embeddings saved successfully to 2_word_embeddings.pkl\")\n"
   ]
  },
  {
   "cell_type": "code",
   "execution_count": null,
   "id": "dd0cfc8e",
   "metadata": {},
   "outputs": [],
   "source": []
  }
 ],
 "metadata": {
  "kernelspec": {
   "display_name": "Python 3",
   "language": "python",
   "name": "python3"
  },
  "language_info": {
   "codemirror_mode": {
    "name": "ipython",
    "version": 3
   },
   "file_extension": ".py",
   "mimetype": "text/x-python",
   "name": "python",
   "nbconvert_exporter": "python",
   "pygments_lexer": "ipython3",
   "version": "3.12.0"
  }
 },
 "nbformat": 4,
 "nbformat_minor": 5
}
